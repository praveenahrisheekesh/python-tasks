{
 "cells": [
  {
   "cell_type": "markdown",
   "metadata": {},
   "source": [
    "## Classes\n",
    "\n",
    "* Python is an object oriented programming language.\n",
    "\n",
    "* Almost everything in Python is an object, with its properties and methods.\n",
    "\n",
    "* A Class is like an object constructor, or a \"blueprint\" for creating objects.\n",
    "\n",
    "**Syntax**\n",
    "\n",
    "class ClassName:\n"
   ]
  },
  {
   "cell_type": "code",
   "execution_count": 1,
   "metadata": {},
   "outputs": [],
   "source": [
    "class Rectangle:\n",
    "    def __init__(self,length=0,breath=0):\n",
    "        self.length=length\n",
    "        self.breath=breath\n",
    "    def area(self):\n",
    "        return self.length*self.breath\n",
    "    \n",
    "    def perimeter(self):\n",
    "        return self.length+self.breath"
   ]
  },
  {
   "cell_type": "code",
   "execution_count": 2,
   "metadata": {},
   "outputs": [
    {
     "name": "stdout",
     "output_type": "stream",
     "text": [
      "Area of rectangle is 0 \n",
      "Perimeter of Rectangle is 0\n"
     ]
    }
   ],
   "source": [
    "# Default values\n",
    "obj=Rectangle()\n",
    "print(\"Area of rectangle is {} \\nPerimeter of Rectangle is {}\".format(obj.area(),obj.perimeter()))"
   ]
  },
  {
   "cell_type": "code",
   "execution_count": 3,
   "metadata": {},
   "outputs": [
    {
     "name": "stdout",
     "output_type": "stream",
     "text": [
      "Area of rectangle is 1200 \n",
      "Perimeter of Rectangle is 70\n"
     ]
    }
   ],
   "source": [
    "obj=Rectangle(40,30)\n",
    "print(\"Area of rectangle is {} \\nPerimeter of Rectangle is {}\".format(obj.area(),obj.perimeter()))"
   ]
  },
  {
   "cell_type": "code",
   "execution_count": 4,
   "metadata": {},
   "outputs": [
    {
     "name": "stdout",
     "output_type": "stream",
     "text": [
      "Area of rectangle is 1217.5625 \n",
      "Perimeter of Rectangle is 70.5\n"
     ]
    }
   ],
   "source": [
    "obj=Rectangle(40.25,30.25)\n",
    "print(\"Area of rectangle is {} \\nPerimeter of Rectangle is {}\".format(obj.area(),obj.perimeter()))"
   ]
  }
 ],
 "metadata": {
  "kernelspec": {
   "display_name": "Python 3",
   "language": "python",
   "name": "python3"
  },
  "language_info": {
   "codemirror_mode": {
    "name": "ipython",
    "version": 3
   },
   "file_extension": ".py",
   "mimetype": "text/x-python",
   "name": "python",
   "nbconvert_exporter": "python",
   "pygments_lexer": "ipython3",
   "version": "3.8.5"
  }
 },
 "nbformat": 4,
 "nbformat_minor": 4
}
