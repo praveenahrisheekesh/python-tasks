{
 "cells": [
  {
   "cell_type": "markdown",
   "metadata": {},
   "source": [
    "# Sets\n",
    "\n",
    "1) Set items are unordered, unchangeable, and do not allow duplicate values.\n",
    "2) Sets are unchangeable, meaning that we cannot change the items after the set has been created.Once a set is created, you cannot change its items, but you can add new items.\n",
    "3) No duplicates are allowed\n",
    "\n",
    "## Task 7"
   ]
  },
  {
   "cell_type": "code",
   "execution_count": 1,
   "metadata": {},
   "outputs": [
    {
     "name": "stdout",
     "output_type": "stream",
     "text": [
      "{'Toyata', 'Tata', 'Ford', 'Maurti'}\n",
      "{'Mahindra', 'Maruti', 'Kia', 'Ford'}\n"
     ]
    }
   ],
   "source": [
    "itemSet1={\"Ford\",\"Toyata\",\"Maurti\",\"Tata\"}\n",
    "itemSet2={\"Kia\",\"Ford\",\"Maruti\",\"Mahindra\"}\n",
    "\n",
    "print(itemSet1)\n",
    "print(itemSet2)"
   ]
  },
  {
   "cell_type": "code",
   "execution_count": 4,
   "metadata": {},
   "outputs": [
    {
     "name": "stdout",
     "output_type": "stream",
     "text": [
      "{'Mahindra', 'Maruti', 'Kia'}\n"
     ]
    }
   ],
   "source": [
    "# The difference() method returns a set that contains the difference between two sets as set.\n",
    "\n",
    "diff=itemSet2.difference(itemSet1);\n",
    "print(diff)"
   ]
  },
  {
   "cell_type": "code",
   "execution_count": 5,
   "metadata": {},
   "outputs": [
    {
     "name": "stdout",
     "output_type": "stream",
     "text": [
      "{'Tata', 'Mahindra', 'Maruti', 'Kia', 'Maurti', 'Toyata'}\n"
     ]
    }
   ],
   "source": [
    "# The symmetric_difference() method returns a set that contains all items from both set, but not the items that are present in both sets.\n",
    "# Meaning: The returned set contains a mix of items that are not present in both sets.\n",
    "\n",
    "symmetrical_diff =itemSet2.symmetric_difference(itemSet1);\n",
    "print(symmetrical_diff)"
   ]
  },
  {
   "cell_type": "markdown",
   "metadata": {},
   "source": [
    "## Task 8\n",
    "\n",
    "\n",
    "<table>\n",
    "    <thead>\n",
    "        <tr>\n",
    "        <td>List</td>\n",
    "        <td>Tuples</td>\n",
    "        <td>Set</td>\n",
    "        <td>Dictionary</td>   \n",
    "        </tr>   \n",
    "    </thead>\n",
    "<tbody>\n",
    "        <tr>\n",
    "<td>List can be represented by [ ]</td>\n",
    "<td>\n",
    "Tuple can be represented by &nbsp;( )\n",
    "</td>\n",
    "<td>Set can be represented by { }</td>\n",
    "<td>Dictionary &nbsp;can be represented by { }</td>\n",
    "</tr>\n",
    "<tr>\n",
    "<td>List allows duplicate elements</td>\n",
    "<td>Tuple allows duplicate elements</td>\n",
    "<td>Set will not allow duplicate elements</td>\n",
    "<td>Set will not allow duplicate elements but keys are not duplicated</td>\n",
    "</tr>\n",
    "<tr>\n",
    "<td>List can use nested among all</td>\n",
    "<td>Tuple can use nested among all</td>\n",
    "<td>Set can use nested among all</td>\n",
    "<td>Dictonary can use nested among all</td>\n",
    "</tr>\n",
    "<tr>\n",
    "<td>Example: [1, 2, 3, 4, 5]</td>\n",
    "<td>Example: (1, 2, 3, 4, 5)</td>\n",
    "<td>Example: {1, 2, 3, 4, 5}</td>\n",
    "<td>Example: {1, 2, 3, 4, 5}</td>\n",
    "</tr>\n",
    "<tr>\n",
    "<td>List can be created using <strong>list() </strong>function</td>\n",
    "<td>Tuple can be created using <strong>tuple()</strong> function.</td>\n",
    "<td>Set can be created using <strong>set()</strong> function</td>\n",
    "<td>Dictonary can be created using <strong>dict() </strong>function.</td>\n",
    "</tr>\n",
    "<tr>\n",
    "<td>List is mutable i.e we can make any changes in list.</td>\n",
    "<td>Tuple &nbsp;is immutable i.e we can not make any changes in tuple</td>\n",
    "<td>Set is mutable i.e we can make any changes in set. But elements are not duplicated.</td>\n",
    "<td>Dictionary is mutable. But Keys are not duplicated.</td>\n",
    "</tr>\n",
    "<tr>\n",
    "<td>List is ordered</td>\n",
    "<td>Tuple is ordered</td>\n",
    "<td>Set is unordered</td>\n",
    "<td>Dictionary is ordered</td>\n",
    "</tr>\n",
    "</tbody>    \n",
    "</table>\n"
   ]
  },
  {
   "cell_type": "code",
   "execution_count": null,
   "metadata": {},
   "outputs": [],
   "source": []
  }
 ],
 "metadata": {
  "kernelspec": {
   "display_name": "Python 3",
   "language": "python",
   "name": "python3"
  },
  "language_info": {
   "codemirror_mode": {
    "name": "ipython",
    "version": 3
   },
   "file_extension": ".py",
   "mimetype": "text/x-python",
   "name": "python",
   "nbconvert_exporter": "python",
   "pygments_lexer": "ipython3",
   "version": "3.8.5"
  }
 },
 "nbformat": 4,
 "nbformat_minor": 4
}
