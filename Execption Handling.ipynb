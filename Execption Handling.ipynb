{
 "cells": [
  {
   "cell_type": "markdown",
   "metadata": {},
   "source": [
    "## Exception Handling\n",
    "\n",
    "### Syntax\n",
    "<br/>\n",
    "try:<br/>\n",
    "    statement1<br/>\n",
    "    statement2<br/>\n",
    "    .......<br/>\n",
    "<br/>\n",
    "except:<br/>\n",
    "    statement1<br/>\n",
    "    statement2<br/>\n",
    "    .......<br/>\n",
    "else:<br/>\n",
    "    statement1<br/>\n",
    "    statement2<br/>\n",
    "    .......<br/>\n",
    "finally:<br/>\n",
    "    statement1<br/>\n",
    "    statement2<br/>\n"
   ]
  },
  {
   "cell_type": "code",
   "execution_count": 1,
   "metadata": {},
   "outputs": [
    {
     "name": "stdout",
     "output_type": "stream",
     "text": [
      "Enter the first Number 7\n",
      "Enter the second Number 0\n",
      "Press \n",
      " 1-Addtion \n",
      " 2-Subraction \n",
      " 3-Multiplication \n",
      " 4-Division \n",
      "4\n",
      "Enter a non-zero denominator\n",
      "Division value =0\n"
     ]
    }
   ],
   "source": [
    "def add(x,y):\n",
    "    return x+y;\n",
    "\n",
    "def diff(x,y):\n",
    "    return x-y;\n",
    "\n",
    "def multiplication(x,y):\n",
    "    return x*y;\n",
    "\n",
    "def division(x,y):\n",
    "    result=0\n",
    "    try:\n",
    "        result=x/y\n",
    "    except ZeroDivisionError:\n",
    "        print(\"Enter a non-zero denominator\")\n",
    "    finally:\n",
    "        return result\n",
    "\n",
    "num1=input(\"Enter the first Number \");\n",
    "num2=input(\"Enter the second Number \");\n",
    "option=input(\"Press \\n 1-Addtion \\n 2-Subraction \\n 3-Multiplication \\n 4-Division \\n\")\n",
    "\n",
    "if(option==\"1\") :\n",
    "    print(\"Sum value ={}\".format(add(int(num1),int(num2))))\n",
    "elif(option==\"2\") :\n",
    "    print(\"Difference value ={}\".format(diff(int(num1),int(num2))))\n",
    "elif(option==\"3\") :\n",
    "    print(\"Multiplied value ={}\".format(multiplication(int(num1),int(num2))))\n",
    "elif(option==\"4\") :\n",
    "    print(\"Division value ={}\".format(division(int(num1),int(num2))))\n",
    "else:\n",
    "    print(\"Invalid option entered enter the choice between 1 to 4\")"
   ]
  },
  {
   "cell_type": "code",
   "execution_count": null,
   "metadata": {},
   "outputs": [],
   "source": []
  }
 ],
 "metadata": {
  "kernelspec": {
   "display_name": "Python 3",
   "language": "python",
   "name": "python3"
  },
  "language_info": {
   "codemirror_mode": {
    "name": "ipython",
    "version": 3
   },
   "file_extension": ".py",
   "mimetype": "text/x-python",
   "name": "python",
   "nbconvert_exporter": "python",
   "pygments_lexer": "ipython3",
   "version": "3.8.5"
  }
 },
 "nbformat": 4,
 "nbformat_minor": 4
}
