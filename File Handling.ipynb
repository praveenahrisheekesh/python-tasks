{
 "cells": [
  {
   "cell_type": "markdown",
   "metadata": {},
   "source": [
    "# File Handling\n",
    "\n",
    "File handling is an important part of any web application.\n",
    "\n",
    "Python has several functions for creating, reading, updating, and deleting files.\n",
    "\n",
    "\n",
    "* The key function for working with files in Python is the open() function.\n",
    "\n",
    "* The open() function takes two parameters; filename, and mode.\n",
    "\n",
    "There are four different methods (modes) for opening a file:\n",
    "\n",
    "* \"r\" - Read - Default value. Opens a file for reading, error if the file does not exist\n",
    "\n",
    "* \"a\" - Append - Opens a file for appending, creates the file if it does not exist\n",
    "\n",
    "* \"w\" - Write - Opens a file for writing, creates the file if it does not exist\n",
    "\n",
    "* \"x\" - Create - Creates the specified file, returns an error if the file exists\n",
    "\n",
    "In addition you can specify if the file should be handled as binary or text mode\n",
    "\n",
    "* \"t\" - Text - Default value. Text mode\n",
    "\n",
    "* \"b\" - Binary - Binary mode (e.g. images)\n",
    "\n"
   ]
  },
  {
   "cell_type": "markdown",
   "metadata": {},
   "source": [
    "### Reading the file"
   ]
  },
  {
   "cell_type": "code",
   "execution_count": 1,
   "metadata": {},
   "outputs": [
    {
     "name": "stdout",
     "output_type": "stream",
     "text": [
      "This is sample file created for understanding file opertion using python.\n",
      "This file will be modify using function in python.\n"
     ]
    }
   ],
   "source": [
    "try:\n",
    "    f=open(\"sample.txt\",\"r\")\n",
    "    print (f.read())\n",
    "    f.close()\n",
    "except FileNotFoundError:\n",
    "    print(\"File not found. Please check\")\n",
    "except:\n",
    "    print(\"Exception occured while reading the file.\")"
   ]
  },
  {
   "cell_type": "code",
   "execution_count": 2,
   "metadata": {},
   "outputs": [
    {
     "name": "stdout",
     "output_type": "stream",
     "text": [
      "File not found. Please check\n"
     ]
    }
   ],
   "source": [
    "## File not found Exception handling\n",
    "\n",
    "try:\n",
    "    f=open(\"sample1.txt\",\"r\")\n",
    "    print (f.read())\n",
    "    f.close()\n",
    "except FileNotFoundError:\n",
    "    print(\"File not found. Please check\")\n",
    "except:\n",
    "    print(\"Exception occured while reading the file.\")"
   ]
  },
  {
   "cell_type": "markdown",
   "metadata": {},
   "source": [
    "### Writing files"
   ]
  },
  {
   "cell_type": "code",
   "execution_count": 3,
   "metadata": {},
   "outputs": [
    {
     "name": "stdout",
     "output_type": "stream",
     "text": [
      "This is sample file created for understanding file opertion using python.\n",
      "\n",
      "This file will be modify using function in python.\n",
      "\n",
      "Checking write opertion\n"
     ]
    }
   ],
   "source": [
    "# Writing existing file\n",
    "\n",
    "# \"a\" means append in the file\n",
    "try:\n",
    "    f=open(\"sample.txt\",\"a\")\n",
    "    f.write(\"\\nChecking write opertion\")\n",
    "    f.close()\n",
    "    \n",
    "    # reading the file to check the write is successful or not\n",
    "    f=open(\"sample.txt\",\"r\")\n",
    "    for x in f :\n",
    "        print(x)\n",
    "except FileNotFoundError:\n",
    "    print(\"File not found. Please check\")\n",
    "except:\n",
    "    print(\"Exception occured while reading the file.\")"
   ]
  },
  {
   "cell_type": "code",
   "execution_count": 5,
   "metadata": {},
   "outputs": [
    {
     "name": "stdout",
     "output_type": "stream",
     "text": [
      "This is newly created file using file handling.\n"
     ]
    }
   ],
   "source": [
    "# creating a new file and wrting the content\n",
    "f=open(\"sampleWrite.txt\",\"w\")\n",
    "f.write(\"This is newly created file using file handling.\")\n",
    "f.close()\n",
    "\n",
    "f=open(\"sampleWrite.txt\",\"r\")\n",
    "for x in f :\n",
    "    print(x)"
   ]
  }
 ],
 "metadata": {
  "kernelspec": {
   "display_name": "Python 3",
   "language": "python",
   "name": "python3"
  },
  "language_info": {
   "codemirror_mode": {
    "name": "ipython",
    "version": 3
   },
   "file_extension": ".py",
   "mimetype": "text/x-python",
   "name": "python",
   "nbconvert_exporter": "python",
   "pygments_lexer": "ipython3",
   "version": "3.8.5"
  }
 },
 "nbformat": 4,
 "nbformat_minor": 4
}
