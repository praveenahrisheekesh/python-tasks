{
 "cells": [
  {
   "cell_type": "markdown",
   "metadata": {},
   "source": [
    "## Task 11.1\n",
    "* Explain Return keyword with example.\n",
    "\n",
    "### Return Values\n",
    "* To let a function return a value, use the return statement:"
   ]
  },
  {
   "cell_type": "code",
   "execution_count": 1,
   "metadata": {},
   "outputs": [
    {
     "name": "stdout",
     "output_type": "stream",
     "text": [
      "9\n",
      "25\n",
      "81\n"
     ]
    }
   ],
   "source": [
    "def squares(x):\n",
    "  return x * x\n",
    "\n",
    "print(squares(3))\n",
    "print(squares(5))\n",
    "print(squares(9))"
   ]
  },
  {
   "cell_type": "markdown",
   "metadata": {},
   "source": [
    "## Task 11.2\n",
    "\n",
    "* Ask 2 numbers from users and store it in num1 and num2\n",
    "* Ask user to press 1 for addition,2 for subtraction,3 for multiplication and 4 for division\n",
    "* create 4 seperate functions for each operation (i.e. addition,subtraction,multiplication and division)\n",
    "* based on number given by user,call that perticular function and print the output"
   ]
  },
  {
   "cell_type": "code",
   "execution_count": 2,
   "metadata": {},
   "outputs": [
    {
     "name": "stdout",
     "output_type": "stream",
     "text": [
      "Enter the first Number 10\n",
      "Enter the second Number 20\n",
      "Press \n",
      " 1-Addtion \n",
      " 2-Subraction \n",
      " 3-Multiplication \n",
      " 4-Division \n",
      "1\n",
      "Sum value =30\n"
     ]
    }
   ],
   "source": [
    "def add(x,y):\n",
    "    return x+y;\n",
    "\n",
    "def diff(x,y):\n",
    "    return x-y;\n",
    "\n",
    "def multiplication(x,y):\n",
    "    return x*y;\n",
    "\n",
    "def division(x,y):\n",
    "    return x/y;\n",
    "\n",
    "num1=input(\"Enter the first Number \");\n",
    "num2=input(\"Enter the second Number \");\n",
    "option=input(\"Press \\n 1-Addtion \\n 2-Subraction \\n 3-Multiplication \\n 4-Division \\n\")\n",
    "\n",
    "if(option==\"1\") :\n",
    "    print(\"Sum value ={}\".format(add(int(num1),int(num2))))\n",
    "elif(option==\"2\") :\n",
    "    print(\"Difference value ={}\".format(diff(int(num1),int(num2))))\n",
    "elif(option==\"3\") :\n",
    "    print(\"Multiplied value ={}\".format(multiplication(int(num1),int(num2))))\n",
    "elif(option==\"4\") :\n",
    "    print(\"Division value ={}\".format(div(int(num1),int(num2))))\n",
    "else:\n",
    "    print(\"Invalid option entered enter the choice between 1 to 4\")"
   ]
  },
  {
   "cell_type": "code",
   "execution_count": null,
   "metadata": {},
   "outputs": [],
   "source": []
  }
 ],
 "metadata": {
  "kernelspec": {
   "display_name": "Python 3",
   "language": "python",
   "name": "python3"
  },
  "language_info": {
   "codemirror_mode": {
    "name": "ipython",
    "version": 3
   },
   "file_extension": ".py",
   "mimetype": "text/x-python",
   "name": "python",
   "nbconvert_exporter": "python",
   "pygments_lexer": "ipython3",
   "version": "3.8.5"
  }
 },
 "nbformat": 4,
 "nbformat_minor": 4
}
