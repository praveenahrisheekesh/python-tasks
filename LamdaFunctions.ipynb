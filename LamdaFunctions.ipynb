{
 "cells": [
  {
   "cell_type": "markdown",
   "metadata": {},
   "source": [
    "## Lambda Functions\n",
    "\n",
    "* A lambda function is a small anonymous function.\n",
    "\n",
    "* A lambda function can take any number of arguments, but can only have one expression.\n",
    "\n",
    "<b>Syntax:</b>\n",
    "<br/>\n",
    "\n",
    "\n",
    "lambda arguments : expression\n",
    "\n"
   ]
  },
  {
   "cell_type": "code",
   "execution_count": 1,
   "metadata": {},
   "outputs": [
    {
     "name": "stdout",
     "output_type": "stream",
     "text": [
      "300\n",
      "21.4\n",
      "Praveena KP\n"
     ]
    }
   ],
   "source": [
    "add=lambda x,y :x+y\n",
    "    \n",
    "print(add(100,200))\n",
    "print(add(10.2,11.2))\n",
    "print(add(\"Praveena \",\"KP\"))"
   ]
  },
  {
   "cell_type": "markdown",
   "metadata": {},
   "source": [
    "## Map Functions\n",
    "\n",
    "* The map() function executes a specified function for each item in an iterable. \n",
    "* The item is sent to the function as a parameter.\n",
    "\n",
    "<b>Syntax:</b>\n",
    "map(function, iterables)\n",
    "\n",
    "* function is required argument. The function to execute for each item\n",
    "* iterable is required argument. A sequence, collection or an iterator object For Example List,set,Tuple. You can send as many iterables as you like, just make sure the function has one parameter for each iterable.\n"
   ]
  },
  {
   "cell_type": "code",
   "execution_count": 2,
   "metadata": {},
   "outputs": [
    {
     "name": "stdout",
     "output_type": "stream",
     "text": [
      "Returns as Map object <map object at 0x7ffbe508da90>\n",
      "List - [8, 27, 64, 125, 216, 343]\n"
     ]
    }
   ],
   "source": [
    "cube= lambda x: x**3\n",
    "\n",
    "print(\"Returns as Map object\",map(cube,[2,3,4,5,6,7]))\n",
    "\n",
    "# to get out put as list\n",
    "print(\"List - {}\".format(list(map(cube,[2,3,4,5,6,7]))))"
   ]
  },
  {
   "cell_type": "markdown",
   "metadata": {},
   "source": [
    "## Filter Functions\n",
    "\n",
    "* The filter() function returns an iterator were the items are filtered through a function to test if the item is accepted or not."
   ]
  },
  {
   "cell_type": "code",
   "execution_count": 3,
   "metadata": {},
   "outputs": [
    {
     "name": "stdout",
     "output_type": "stream",
     "text": [
      "List -[20, 24, 56, 34, 78, 90]\n"
     ]
    }
   ],
   "source": [
    "filterMultiples=lambda multiple,value: value%multiple==0\n",
    "\n",
    "print (\"List -{}\".format(list(filter(lambda seq:filterMultiples(2,seq),[20,33,43,24,56,34,78,90]))))\n"
   ]
  },
  {
   "cell_type": "markdown",
   "metadata": {},
   "source": [
    "# Task\n",
    "\n",
    "## Enumerate Functions\n",
    "\n",
    "\n",
    "* The enumerate() function takes a collection (e.g. a tuple) and returns it as an enumerate object.\n",
    "\n",
    "* The enumerate() function adds a counter as the key of the enumerate object.\n",
    "\n",
    "<b>Syntax:</b>\n",
    "\n",
    "enumerate(iterable, start)\n",
    "\n",
    "* iterable\tAn iterable object\n",
    "* start\tA Number. Defining the start number of the enumerate object. Default 0"
   ]
  },
  {
   "cell_type": "code",
   "execution_count": 4,
   "metadata": {},
   "outputs": [
    {
     "name": "stdout",
     "output_type": "stream",
     "text": [
      "[(1, 'Sun'), (2, 'Mon'), (3, 'Wed'), (4, 'Thrus'), (5, 'Fri'), (6, 'Sat')]\n"
     ]
    }
   ],
   "source": [
    "print(list(enumerate([\"Sun\",\"Mon\",\"Wed\",\"Thrus\",\"Fri\",\"Sat\"],1)))"
   ]
  },
  {
   "cell_type": "code",
   "execution_count": 5,
   "metadata": {},
   "outputs": [
    {
     "name": "stdout",
     "output_type": "stream",
     "text": [
      "[(0, 'Sun'), (1, 'Mon'), (2, 'Wed'), (3, 'Thrus'), (4, 'Fri'), (5, 'Sat')]\n"
     ]
    }
   ],
   "source": [
    "print(list(enumerate([\"Sun\",\"Mon\",\"Wed\",\"Thrus\",\"Fri\",\"Sat\"])))"
   ]
  },
  {
   "cell_type": "markdown",
   "metadata": {},
   "source": [
    "## Zip Functions\n",
    "\n",
    "* The zip() function returns a zip object, which is an iterator of tuples where the first item in each passed iterator is paired together, and then the second item in each passed iterator are paired together etc.\n",
    "\n",
    "* If the passed iterators have different lengths, the iterator with the least items decides the length of the new iterator.\n",
    "\n",
    "<b>Syntax:</b>\n",
    "\n",
    "zip(iterator1, iterator2, iterator3 ...)"
   ]
  },
  {
   "cell_type": "code",
   "execution_count": 6,
   "metadata": {},
   "outputs": [
    {
     "name": "stdout",
     "output_type": "stream",
     "text": [
      "(('Sunday', 1), ('Monday', 2), ('Tuesday', 3), ('Wednesday', 4), ('Thrusday', 5), ('Friday', 6), ('Saturday', 7))\n"
     ]
    }
   ],
   "source": [
    "a=(\"Sunday\",\"Monday\",\"Tuesday\",\"Wednesday\",\"Thrusday\",\"Friday\",\"Saturday\")\n",
    "b=(1,2,3,4,5,6,7)\n",
    "\n",
    "print(tuple(zip(a,b)))"
   ]
  },
  {
   "cell_type": "code",
   "execution_count": 7,
   "metadata": {},
   "outputs": [
    {
     "name": "stdout",
     "output_type": "stream",
     "text": [
      "((21, 11), (22, 12), (23, 13), (24, 14), (25, 15))\n"
     ]
    }
   ],
   "source": [
    "c=(21,22,23,24,25,26)\n",
    "d=(11,12,13,14,15)\n",
    "print(tuple(zip(c,d)))\n",
    "\n",
    "# Here resultant tuple size is lowest tuple(d) size paired with corresponding elements in c tuple."
   ]
  },
  {
   "cell_type": "markdown",
   "metadata": {},
   "source": [
    "## reduce() \n",
    "\n",
    "Python’s reduce() implements a mathematical technique commonly known as folding or reduction. You’re doing a fold or reduction when you reduce a list of items to a single cumulative value. Python’s reduce() operates on any iterable—not just lists—and performs the following steps:\n",
    "\n",
    "* Apply a function (or callable) to the first two items in an iterable and generate a partial result.\n",
    "* Use that partial result, together with the third item in the iterable, to generate another partial result.\n",
    "* Repeat the process until the iterable is exhausted and then return a single cumulative value.\n",
    "\n",
    "Python’s reduce() was originally a built-in function (and still is in Python 2.x), but it was moved to functools.reduce() in Python 3.0. This decision was based on some possible performance and readability issues.\n",
    "\n",
    "Another reason for moving reduce() to functools was the introduction of built-in functions like sum(), any(), all(), max(), min(), and len(), which provide more efficient, readable, and Pythonic ways of tackling common use cases for reduce().\n",
    "\n",
    "To use reduce function in phyton 3 first import functools packages as shown below \n",
    "\n",
    "* import functools and then use fully-qualified names like functools.reduce().\n",
    "* from functools import reduce and then call reduce() directly.\n",
    "\n",
    "<b>Syntax:</b>\n",
    "\n",
    "reduce(function, iterable, initializer)"
   ]
  },
  {
   "cell_type": "code",
   "execution_count": 8,
   "metadata": {},
   "outputs": [
    {
     "data": {
      "text/plain": [
       "10"
      ]
     },
     "execution_count": 8,
     "metadata": {},
     "output_type": "execute_result"
    }
   ],
   "source": [
    "from functools import reduce\n",
    "\n",
    "reduce(lambda x,y: x+y,[0,1,2,3,4])"
   ]
  },
  {
   "cell_type": "markdown",
   "metadata": {},
   "source": [
    "#### Execution steps\n",
    "\n",
    "0 + 1 = 1<br/>\n",
    "1 + 2 = 3<br/>\n",
    "3 + 3 = 6<br/>\n",
    "6 + 4 = 10<br/>\n",
    "10<br/>"
   ]
  },
  {
   "cell_type": "code",
   "execution_count": 9,
   "metadata": {},
   "outputs": [
    {
     "data": {
      "text/plain": [
       "20"
      ]
     },
     "execution_count": 9,
     "metadata": {},
     "output_type": "execute_result"
    }
   ],
   "source": [
    "reduce(lambda x,y: x+y,[0,1,2,3,4],10)"
   ]
  },
  {
   "cell_type": "markdown",
   "metadata": {},
   "source": [
    "#### Execution steps\n",
    "\n",
    "10 + 1 = 11<br/>\n",
    "11 + 2 = 13<br/>\n",
    "13 + 3 = 16<br/>\n",
    "16 + 4 = 20<br/>\n",
    "20<br/>"
   ]
  },
  {
   "cell_type": "code",
   "execution_count": null,
   "metadata": {},
   "outputs": [],
   "source": []
  }
 ],
 "metadata": {
  "kernelspec": {
   "display_name": "Python 3",
   "language": "python",
   "name": "python3"
  },
  "language_info": {
   "codemirror_mode": {
    "name": "ipython",
    "version": 3
   },
   "file_extension": ".py",
   "mimetype": "text/x-python",
   "name": "python",
   "nbconvert_exporter": "python",
   "pygments_lexer": "ipython3",
   "version": "3.8.5"
  }
 },
 "nbformat": 4,
 "nbformat_minor": 4
}
