{
 "cells": [
  {
   "cell_type": "markdown",
   "metadata": {},
   "source": [
    "# Test\n",
    "\n",
    "**Write a python function to accept user inputs, store it in a list and compute the highest number out of it. User can enter as many numbers as he/she wants.**\n",
    "Take care of following things:\n",
    "1. Input must be entered by user\n",
    "2. Exception handling\n",
    "3. Null values\n",
    "4. Errors\n",
    "5. Datatypes\n",
    "\n",
    "**Output of the function must be a number.**\n",
    "\n",
    "**Note:** It should accept correct values and for incorrect values, an error message must be displayed to the user."
   ]
  },
  {
   "cell_type": "code",
   "execution_count": 1,
   "metadata": {},
   "outputs": [],
   "source": [
    "def getHighestNumber():\n",
    "    listValues=[]\n",
    "    high=0;\n",
    "    print(\"To find the highest Number in list input \\'s\\'\")\n",
    "    while(1):\n",
    "        ip=input(\"\\nEnter the value:\")\n",
    "        if(ip=='s'):\n",
    "            break;\n",
    "        try:\n",
    "            i=int(ip)\n",
    "            if(high<i):\n",
    "                high=i;\n",
    "                listValues.append(high)\n",
    "        except:\n",
    "            if(ip==''):\n",
    "                print(\"\\nNull Value are not accepted.\\nPlease enter the integer value.\")\n",
    "            else:\n",
    "                print(\"\\nNot a integer value.\\nPlease enter the integer value\")\n",
    "    \n",
    "    print(\"\\nList Elements- {}\".format(listValues))\n",
    "    print(\"\\nHighest Number in the list is {}\".format(high))"
   ]
  },
  {
   "cell_type": "code",
   "execution_count": 2,
   "metadata": {},
   "outputs": [
    {
     "name": "stdout",
     "output_type": "stream",
     "text": [
      "To find the highest Number in list input 's'\n",
      "\n",
      "Enter the value:34\n",
      "\n",
      "Enter the value:23\n",
      "\n",
      "Enter the value:55\n",
      "\n",
      "Enter the value:678.4\n",
      "\n",
      "Not a integer value.\n",
      "Please enter the integer value\n",
      "\n",
      "Enter the value:678\n",
      "\n",
      "Enter the value:988882828282\n",
      "\n",
      "Enter the value:wew\n",
      "\n",
      "Not a integer value.\n",
      "Please enter the integer value\n",
      "\n",
      "Enter the value:s\n",
      "\n",
      "List Elements- [34, 55, 678, 988882828282]\n",
      "\n",
      "Highest Number in the list is 988882828282\n"
     ]
    }
   ],
   "source": [
    "getHighestNumber()"
   ]
  }
 ],
 "metadata": {
  "kernelspec": {
   "display_name": "Python 3",
   "language": "python",
   "name": "python3"
  },
  "language_info": {
   "codemirror_mode": {
    "name": "ipython",
    "version": 3
   },
   "file_extension": ".py",
   "mimetype": "text/x-python",
   "name": "python",
   "nbconvert_exporter": "python",
   "pygments_lexer": "ipython3",
   "version": "3.8.5"
  }
 },
 "nbformat": 4,
 "nbformat_minor": 4
}
