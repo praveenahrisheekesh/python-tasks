{
 "cells": [
  {
   "cell_type": "markdown",
   "metadata": {},
   "source": [
    "## Task9\n",
    "1) Ask 2 numbers from users and store it in num1 and num2 <br/>\n",
    "2) Ask user to press 1 for addition,2 for subtraction,3 for multiplication and 4 for division<br/>\n",
    "3) based on number given by user do the math operation"
   ]
  },
  {
   "cell_type": "code",
   "execution_count": 9,
   "metadata": {},
   "outputs": [
    {
     "name": "stdout",
     "output_type": "stream",
     "text": [
      "Enter the first Number 20\n",
      "Enter the second Number 30\n",
      "Press \n",
      " 1-Addtion \n",
      " 2-Subraction \n",
      " 3-Multiplication \n",
      " 4-Division \n",
      "4\n",
      "Division value =0.6666666666666666\n"
     ]
    }
   ],
   "source": [
    "num1=input(\"Enter the first Number \");\n",
    "num2=input(\"Enter the second Number \");\n",
    "option=input(\"Press \\n 1-Addtion \\n 2-Subraction \\n 3-Multiplication \\n 4-Division \\n\")\n",
    "\n",
    "if(option==\"1\") :\n",
    "    print(\"Sum value ={}\".format(int(num1)+int(num2)))\n",
    "elif(option==\"2\") :\n",
    "    print(\"Difference value ={}\".format(int(num1)-int(num2)))\n",
    "elif(option==\"3\") :\n",
    "    print(\"Multiplied value ={}\".format(int(num1)*int(num2)))\n",
    "elif(option==\"4\") :\n",
    "    print(\"Division value ={}\".format(int(num1)/int(num2)))\n",
    "else:\n",
    "    print(\"Invalid option entered enter the choice between 1 to 4\")"
   ]
  }
 ],
 "metadata": {
  "kernelspec": {
   "display_name": "Python 3",
   "language": "python",
   "name": "python3"
  },
  "language_info": {
   "codemirror_mode": {
    "name": "ipython",
    "version": 3
   },
   "file_extension": ".py",
   "mimetype": "text/x-python",
   "name": "python",
   "nbconvert_exporter": "python",
   "pygments_lexer": "ipython3",
   "version": "3.8.5"
  }
 },
 "nbformat": 4,
 "nbformat_minor": 4
}
