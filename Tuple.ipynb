{
 "cells": [
  {
   "cell_type": "markdown",
   "metadata": {},
   "source": [
    "# Tuples\n",
    "\n",
    "<ol>\n",
    "    <li> Tuples are used to store multiple items in a single variable.</li>\n",
    "    <li>A tuple is a collection which is ordered and immutable.</li>\n",
    "    <li>Tuples are written with round brackets.</li>\n",
    "</ol>    "
   ]
  },
  {
   "cell_type": "markdown",
   "metadata": {},
   "source": [
    "## Task 6 -Add and remove the elements from a tuple.\n",
    "\n"
   ]
  },
  {
   "cell_type": "code",
   "execution_count": 1,
   "metadata": {},
   "outputs": [
    {
     "name": "stdout",
     "output_type": "stream",
     "text": [
      "(1, 'Praveena', 'Female', 'MCA')\n"
     ]
    }
   ],
   "source": [
    "tup=(1,\"Praveena\",\"Female\",\"MCA\")\n",
    "print(tup)"
   ]
  },
  {
   "cell_type": "code",
   "execution_count": 2,
   "metadata": {},
   "outputs": [
    {
     "name": "stdout",
     "output_type": "stream",
     "text": [
      "(1, 'Praveena', 'Female', 'MCA', 'English')\n"
     ]
    }
   ],
   "source": [
    "# adding new element\n",
    "li=list(tup)\n",
    "li.append(\"English\")\n",
    "tup=tuple(li)\n",
    "print(tup)"
   ]
  },
  {
   "cell_type": "code",
   "execution_count": 3,
   "metadata": {},
   "outputs": [
    {
     "name": "stdout",
     "output_type": "stream",
     "text": [
      "(1, 'Praveena', 'Female', 'MCA')\n"
     ]
    }
   ],
   "source": [
    "# Removing element \n",
    "li=list(tup)\n",
    "li.remove(\"English\")\n",
    "tup=tuple(li)\n",
    "print(tup)"
   ]
  }
 ],
 "metadata": {
  "kernelspec": {
   "display_name": "Python 3",
   "language": "python",
   "name": "python3"
  },
  "language_info": {
   "codemirror_mode": {
    "name": "ipython",
    "version": 3
   },
   "file_extension": ".py",
   "mimetype": "text/x-python",
   "name": "python",
   "nbconvert_exporter": "python",
   "pygments_lexer": "ipython3",
   "version": "3.8.5"
  }
 },
 "nbformat": 4,
 "nbformat_minor": 4
}
