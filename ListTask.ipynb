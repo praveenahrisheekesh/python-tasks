{
 "cells": [
  {
   "cell_type": "markdown",
   "metadata": {},
   "source": [
    "## Lists\n",
    "\n",
    "1) Lists are used to store multiple items in a single variable.\n",
    "\n",
    "2) Lists are one of 4 built-in data types in Python used to store collections of data, the other 3 are Tuple, Set, and Dictionary, all with different qualities and usage.\n",
    "\n",
    "3) Lists are created using square brackets"
   ]
  },
  {
   "cell_type": "code",
   "execution_count": 1,
   "metadata": {},
   "outputs": [
    {
     "name": "stdout",
     "output_type": "stream",
     "text": [
      "['Iphone 11', 'Samasung galaxy', 'MI', 'Nokia', 'BlackBerry', 'Iphone 6s', 'Iphone 11']\n"
     ]
    }
   ],
   "source": [
    "# Task 3.1 \n",
    "itemList=[\"Iphone 11\",\"Samasung galaxy\",\"MI\",\"Nokia\",\"BlackBerry\",\"Iphone 6s\",\"Iphone 11\"]\n",
    "\n",
    "print(itemList)"
   ]
  },
  {
   "cell_type": "code",
   "execution_count": 2,
   "metadata": {},
   "outputs": [
    {
     "data": {
      "text/plain": [
       "2"
      ]
     },
     "execution_count": 2,
     "metadata": {},
     "output_type": "execute_result"
    }
   ],
   "source": [
    "#count() method returns the number of elements with the specified value.\n",
    "itemList.count(\"Iphone 11\")"
   ]
  },
  {
   "cell_type": "code",
   "execution_count": 3,
   "metadata": {},
   "outputs": [
    {
     "name": "stdout",
     "output_type": "stream",
     "text": [
      "['BlackBerry', 'Iphone 11', 'Iphone 11', 'Iphone 6s', 'MI', 'Nokia', 'Samasung galaxy']\n"
     ]
    }
   ],
   "source": [
    "# Sort method sorts items in list \n",
    "itemList.sort()\n",
    "\n",
    "print(itemList)"
   ]
  },
  {
   "cell_type": "code",
   "execution_count": 4,
   "metadata": {},
   "outputs": [
    {
     "name": "stdout",
     "output_type": "stream",
     "text": [
      "['Samasung galaxy', 'Nokia', 'MI', 'Iphone 6s', 'Iphone 11', 'Iphone 11', 'BlackBerry']\n"
     ]
    }
   ],
   "source": [
    "#The reverse() method reverses the sorting order of the elements.\n",
    "itemList.reverse()\n",
    "\n",
    "print(itemList)"
   ]
  },
  {
   "cell_type": "code",
   "execution_count": 5,
   "metadata": {},
   "outputs": [
    {
     "name": "stdout",
     "output_type": "stream",
     "text": [
      "['Samasung galaxy', 'Nokia', 'MI', 'Iphone 6s', 'Iphone 11', 'Iphone 11', 'BlackBerry', 'Oneplus 6', 'Oneplus 7', 'Oneplus 8']\n"
     ]
    }
   ],
   "source": [
    "# The extend() method adds the specified list elements (or any iterable) to the end of the current list.\n",
    "itemList.extend([\"Oneplus 6\",\"Oneplus 7\",\"Oneplus 8\" ])\n",
    "print(itemList)"
   ]
  },
  {
   "cell_type": "code",
   "execution_count": 6,
   "metadata": {},
   "outputs": [
    {
     "name": "stdout",
     "output_type": "stream",
     "text": [
      "['Samasung galaxy', 'Nokia', 'MI', 'Iphone 6s', 'Iphone 11', 'Iphone 11', 'BlackBerry', 'Oneplus 6', 'Oneplus 7', 'Oneplus 8', 'Samsung galaxy one']\n"
     ]
    }
   ],
   "source": [
    "itemList.append(\"Samsung galaxy one\")\n",
    "print (itemList)"
   ]
  },
  {
   "cell_type": "code",
   "execution_count": 7,
   "metadata": {},
   "outputs": [
    {
     "name": "stdout",
     "output_type": "stream",
     "text": [
      "['Samasung galaxy', 'Nokia', 'MI', 'Iphone 11', 'Iphone 11', 'BlackBerry', 'Oneplus 6', 'Oneplus 7', 'Oneplus 8', 'Samsung galaxy one']\n"
     ]
    }
   ],
   "source": [
    "# remove the specifed element\n",
    "itemList.remove(\"Iphone 6s\")\n",
    "print (itemList)"
   ]
  },
  {
   "cell_type": "code",
   "execution_count": 8,
   "metadata": {},
   "outputs": [
    {
     "name": "stdout",
     "output_type": "stream",
     "text": [
      "[]\n"
     ]
    }
   ],
   "source": [
    "#clear removes all the elements in the list\n",
    "itemList.clear()\n",
    "print (itemList)"
   ]
  },
  {
   "cell_type": "code",
   "execution_count": 9,
   "metadata": {},
   "outputs": [
    {
     "name": "stdout",
     "output_type": "stream",
     "text": [
      "[20, 243, 10, 23, 12, 34, 56, 67, 89, 70]\n"
     ]
    }
   ],
   "source": [
    "#Using the list() constructor to make a List:\n",
    "#Task 3.2 \n",
    "itemList=list((20,243,10,23,12,34,56,67,89,70))\n",
    "print (itemList)"
   ]
  },
  {
   "cell_type": "code",
   "execution_count": 10,
   "metadata": {},
   "outputs": [
    {
     "name": "stdout",
     "output_type": "stream",
     "text": [
      "10\n"
     ]
    }
   ],
   "source": [
    "print(len(itemList))"
   ]
  },
  {
   "cell_type": "markdown",
   "metadata": {},
   "source": [
    "## Task 4"
   ]
  },
  {
   "cell_type": "code",
   "execution_count": 11,
   "metadata": {},
   "outputs": [
    {
     "name": "stdout",
     "output_type": "stream",
     "text": [
      "[10, 20, [30, 40, [50, 60], 80], 90, 100]\n"
     ]
    }
   ],
   "source": [
    "#Task 4\n",
    "\n",
    "#Add item 70 after 60 in the following Python List\n",
    "#input\n",
    "li = [10, 20, [30, 40, [50, 60], 80], 90, 100]\n",
    "print(li)"
   ]
  },
  {
   "cell_type": "code",
   "execution_count": 12,
   "metadata": {},
   "outputs": [
    {
     "name": "stdout",
     "output_type": "stream",
     "text": [
      "[10, 20, [30, 40, [50, 60, 70], 80], 90, 100]\n"
     ]
    }
   ],
   "source": [
    "li[2][2].append(70)\n",
    "print(li)"
   ]
  },
  {
   "cell_type": "code",
   "execution_count": 13,
   "metadata": {},
   "outputs": [
    {
     "name": "stdout",
     "output_type": "stream",
     "text": [
      "[1, 2, [3, 4, 5, 6], 9]\n"
     ]
    }
   ],
   "source": [
    "#add sublist [7,8] after 6\n",
    "#input\n",
    "l2 = [1,2,[3,4,5,6],9]\n",
    "print(l2)"
   ]
  },
  {
   "cell_type": "code",
   "execution_count": 14,
   "metadata": {},
   "outputs": [
    {
     "name": "stdout",
     "output_type": "stream",
     "text": [
      "[1, 2, [3, 4, 5, 6, [7, 8]], 9]\n"
     ]
    }
   ],
   "source": [
    "l2[2].append([7,8])\n",
    "\n",
    "print(l2);"
   ]
  }
 ],
 "metadata": {
  "kernelspec": {
   "display_name": "Python 3",
   "language": "python",
   "name": "python3"
  },
  "language_info": {
   "codemirror_mode": {
    "name": "ipython",
    "version": 3
   },
   "file_extension": ".py",
   "mimetype": "text/x-python",
   "name": "python",
   "nbconvert_exporter": "python",
   "pygments_lexer": "ipython3",
   "version": "3.8.5"
  }
 },
 "nbformat": 4,
 "nbformat_minor": 4
}
