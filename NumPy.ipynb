{
 "cells": [
  {
   "cell_type": "markdown",
   "metadata": {},
   "source": [
    "# NumPy \n",
    "\n",
    "* NumPy is a Python library used for working with arrays.\n",
    "* It also has functions for working in domain of linear algebra, fourier transform, and matrices.\n",
    "* NumPy stands for Numerical Python.\n",
    "\n",
    "## Why Use NumPy?\n",
    "\n",
    "* In Python we have lists that serve the purpose of arrays, but they are slow to process.\n",
    "\n",
    "* NumPy aims to provide an array object that is up to 50x faster than traditional Python lists.\n",
    "\n",
    "* The array object in NumPy is called ndarray, it provides a lot of supporting functions that make working with ndarray very easy.\n",
    "\n",
    "* Arrays are very frequently used in data science, where speed and resources are very important\n",
    "\n",
    "# Why is NumPy Faster Than Lists?\n",
    "\n",
    "* NumPy arrays are stored at one continuous place in memory unlike lists, so processes can access and manipulate them very efficiently.\n",
    "\n",
    "* This behavior is called locality of reference in computer science.\n",
    "\n",
    "* This is the main reason why NumPy is faster than lists. Also it is optimized to work with latest CPU architectures.\n",
    "\n"
   ]
  },
  {
   "cell_type": "code",
   "execution_count": 1,
   "metadata": {},
   "outputs": [
    {
     "name": "stdout",
     "output_type": "stream",
     "text": [
      "Requirement already satisfied: numpy in /Users/manikandan/opt/anaconda3/lib/python3.8/site-packages (1.19.2)\r\n"
     ]
    }
   ],
   "source": [
    "!pip install numpy"
   ]
  },
  {
   "cell_type": "code",
   "execution_count": 2,
   "metadata": {},
   "outputs": [],
   "source": [
    "import numpy as np;"
   ]
  },
  {
   "cell_type": "code",
   "execution_count": 3,
   "metadata": {},
   "outputs": [
    {
     "name": "stdout",
     "output_type": "stream",
     "text": [
      "\n",
      "Type of array is <class 'numpy.ndarray'>\n",
      "\n",
      "Dimension of array is 1\n",
      "\n",
      "Datatype of array is int64\n",
      "\n",
      "[1 2 3 4 5]\n",
      "\n",
      "Last element in array is 5\n",
      "\n",
      "First Element in array is 1\n"
     ]
    }
   ],
   "source": [
    "# creating an array using numpy\n",
    "\n",
    "array=np.array([1,2,3,4,5]);\n",
    "\n",
    "print(\"\\nType of array is {}\".format(type(array)))\n",
    "\n",
    "print(\"\\nDimension of array is {}\".format(array.ndim))\n",
    "\n",
    "print (\"\\nDatatype of array is {}\".format(array.dtype))\n",
    "\n",
    "print(\"\\n{}\".format(array))\n",
    "\n",
    "print(\"\\nLast element in array is {}\".format(array[-1]))\n",
    "\n",
    "print (\"\\nFirst Element in array is {}\".format(array[0]))"
   ]
  },
  {
   "cell_type": "code",
   "execution_count": 4,
   "metadata": {},
   "outputs": [
    {
     "name": "stdout",
     "output_type": "stream",
     "text": [
      "\n",
      "Type of array is <class 'numpy.ndarray'>\n",
      "\n",
      "Dimension of array is 1\n",
      "\n",
      "Datatype of array is |S1\n",
      "\n",
      "[b'1' b'2' b'3' b'4']\n"
     ]
    }
   ],
   "source": [
    "# Specifying the data types while creating array\n",
    "\n",
    "array = np.array([1, 2, 3, 4], dtype='S')\n",
    "\n",
    "print(\"\\nType of array is {}\".format(type(array)))\n",
    "\n",
    "print(\"\\nDimension of array is {}\".format(array.ndim))\n",
    "\n",
    "print (\"\\nDatatype of array is {}\".format(array.dtype))\n",
    "\n",
    "print(\"\\n{}\".format(array))\n"
   ]
  },
  {
   "cell_type": "code",
   "execution_count": 5,
   "metadata": {},
   "outputs": [
    {
     "name": "stdout",
     "output_type": "stream",
     "text": [
      "\n",
      "Type of array is <class 'numpy.ndarray'>\n",
      "\n",
      "Dimension of array is 2\n",
      "\n",
      "Datatype of array is int64\n",
      "\n",
      "[[1 2 3]\n",
      " [2 3 2]\n",
      " [3 4 2]]\n"
     ]
    }
   ],
   "source": [
    "array2D=np.array([[1,2,3],[2,3,2],[3,4,2]])\n",
    "\n",
    "print(\"\\nType of array is {}\".format(type(array2D)))\n",
    "\n",
    "print(\"\\nDimension of array is {}\".format(array2D.ndim))\n",
    "\n",
    "print (\"\\nDatatype of array is {}\".format(array2D.dtype))\n",
    "\n",
    "print(\"\\n{}\".format(array2D))"
   ]
  },
  {
   "cell_type": "markdown",
   "metadata": {},
   "source": [
    "## Array Slicing"
   ]
  },
  {
   "cell_type": "code",
   "execution_count": 6,
   "metadata": {},
   "outputs": [
    {
     "name": "stdout",
     "output_type": "stream",
     "text": [
      "[b'1' b'2' b'3']\n"
     ]
    }
   ],
   "source": [
    "print(array[0:3])"
   ]
  },
  {
   "cell_type": "code",
   "execution_count": 7,
   "metadata": {},
   "outputs": [
    {
     "name": "stdout",
     "output_type": "stream",
     "text": [
      "[b'2' b'3']\n"
     ]
    }
   ],
   "source": [
    "print(array[-3:-1])"
   ]
  },
  {
   "cell_type": "code",
   "execution_count": 8,
   "metadata": {},
   "outputs": [
    {
     "name": "stdout",
     "output_type": "stream",
     "text": [
      "[2 3]\n"
     ]
    }
   ],
   "source": [
    "print(array2D[0:2,1])"
   ]
  },
  {
   "cell_type": "code",
   "execution_count": 9,
   "metadata": {},
   "outputs": [
    {
     "name": "stdout",
     "output_type": "stream",
     "text": [
      "[2]\n"
     ]
    }
   ],
   "source": [
    "print (array2D[0,1:2])"
   ]
  },
  {
   "cell_type": "markdown",
   "metadata": {},
   "source": [
    "# Copy and View\n",
    "\n",
    "## Copy\n",
    "* The copy owns the data and any changes made to the copy will not affect original array, and any changes made to the original array will not affect the copy."
   ]
  },
  {
   "cell_type": "code",
   "execution_count": 10,
   "metadata": {},
   "outputs": [
    {
     "name": "stdout",
     "output_type": "stream",
     "text": [
      "[ 0  1  2  3  4  5  6  7  8  9 10 11 12 13 14]\n",
      "[ 2  1  2  3  4  5  6  7  8  9 10 11 12 13 14]\n"
     ]
    }
   ],
   "source": [
    "a=np.arange(15)\n",
    "aCopy=a.copy()\n",
    "aCopy[0]=2\n",
    "print(a)\n",
    "print(aCopy)"
   ]
  },
  {
   "cell_type": "markdown",
   "metadata": {},
   "source": [
    "## View\n",
    "\n",
    "* The view does not own the data and any changes made to the view will affect the original array, and any changes made to the original array will affect the view."
   ]
  },
  {
   "cell_type": "code",
   "execution_count": 11,
   "metadata": {},
   "outputs": [
    {
     "name": "stdout",
     "output_type": "stream",
     "text": [
      "[ 2  1  2  3  4  5  6  7  8  9 10 11 12 13 14]\n",
      "[ 2  1  2  3  4  5  6  7  8  9 10 11 12 13 14]\n"
     ]
    }
   ],
   "source": [
    "a=np.arange(15)\n",
    "a1=a.view()\n",
    "a1[0]=2\n",
    "print(aCopy)\n",
    "print(a)"
   ]
  },
  {
   "cell_type": "markdown",
   "metadata": {},
   "source": [
    "#### Zero Array"
   ]
  },
  {
   "cell_type": "code",
   "execution_count": 12,
   "metadata": {},
   "outputs": [
    {
     "name": "stdout",
     "output_type": "stream",
     "text": [
      "[[0. 0. 0.]\n",
      " [0. 0. 0.]\n",
      " [0. 0. 0.]]\n"
     ]
    }
   ],
   "source": [
    "zero=np.zeros((3, 3))\n",
    "print(zero)"
   ]
  },
  {
   "cell_type": "markdown",
   "metadata": {},
   "source": [
    "#### Unit Matrix "
   ]
  },
  {
   "cell_type": "code",
   "execution_count": 13,
   "metadata": {},
   "outputs": [
    {
     "name": "stdout",
     "output_type": "stream",
     "text": [
      "[[1. 1. 1.]\n",
      " [1. 1. 1.]\n",
      " [1. 1. 1.]]\n"
     ]
    }
   ],
   "source": [
    "identity=np.ones((3,3))\n",
    "print (identity)"
   ]
  },
  {
   "cell_type": "markdown",
   "metadata": {},
   "source": [
    "#### Matrix with same value"
   ]
  },
  {
   "cell_type": "code",
   "execution_count": 14,
   "metadata": {},
   "outputs": [
    {
     "name": "stdout",
     "output_type": "stream",
     "text": [
      "[[3 3 3]\n",
      " [3 3 3]\n",
      " [3 3 3]\n",
      " [3 3 3]\n",
      " [3 3 3]]\n"
     ]
    }
   ],
   "source": [
    "\n",
    "print(np.full((5, 3), 3))"
   ]
  },
  {
   "cell_type": "markdown",
   "metadata": {},
   "source": [
    "#### Identity Matrix"
   ]
  },
  {
   "cell_type": "code",
   "execution_count": 15,
   "metadata": {},
   "outputs": [
    {
     "name": "stdout",
     "output_type": "stream",
     "text": [
      "[[1. 0. 0.]\n",
      " [0. 1. 0.]\n",
      " [0. 0. 1.]]\n"
     ]
    }
   ],
   "source": [
    "print(np.eye(3))"
   ]
  },
  {
   "cell_type": "markdown",
   "metadata": {},
   "source": [
    "#### Diagonal Matrix"
   ]
  },
  {
   "cell_type": "code",
   "execution_count": 16,
   "metadata": {},
   "outputs": [
    {
     "name": "stdout",
     "output_type": "stream",
     "text": [
      "[[ 2  0  0  0]\n",
      " [ 0  5  0  0]\n",
      " [ 0  0 10  0]\n",
      " [ 0  0  0 15]]\n"
     ]
    }
   ],
   "source": [
    "print(np.diag([2, 5, 10, 15]))"
   ]
  },
  {
   "cell_type": "markdown",
   "metadata": {},
   "source": [
    "# Random Numbers in NumPy"
   ]
  },
  {
   "cell_type": "code",
   "execution_count": 17,
   "metadata": {},
   "outputs": [
    {
     "name": "stdout",
     "output_type": "stream",
     "text": [
      "0.7580470193576555\n",
      "0.5570842134504843\n",
      "0.43375411349563686\n",
      "0.5224416095601241\n",
      "0.33996254463772646\n"
     ]
    }
   ],
   "source": [
    "# To get the random Numbers\n",
    "print(np.random.random())\n",
    "print(np.random.random())\n",
    "print(np.random.random())\n",
    "print(np.random.random())\n",
    "print(np.random.random())"
   ]
  },
  {
   "cell_type": "markdown",
   "metadata": {},
   "source": [
    "#### Seed \n",
    "* To generate a random numbers with in range"
   ]
  },
  {
   "cell_type": "code",
   "execution_count": 18,
   "metadata": {},
   "outputs": [
    {
     "name": "stdout",
     "output_type": "stream",
     "text": [
      "0.771320643266746\n",
      "0.0207519493594015\n",
      "0.6336482349262754\n",
      "0.7488038825386119\n",
      "0.4985070123025904\n"
     ]
    }
   ],
   "source": [
    "np.random.seed(10)\n",
    "print(np.random.random())\n",
    "print(np.random.random())\n",
    "print(np.random.random())\n",
    "print(np.random.random())\n",
    "print(np.random.random())"
   ]
  },
  {
   "cell_type": "code",
   "execution_count": 19,
   "metadata": {},
   "outputs": [
    {
     "name": "stdout",
     "output_type": "stream",
     "text": [
      "[[0.22479665 0.19806286 0.76053071]\n",
      " [0.16911084 0.08833981 0.68535982]\n",
      " [0.95339335 0.00394827 0.51219226]\n",
      " [0.81262096 0.61252607 0.72175532]\n",
      " [0.29187607 0.91777412 0.71457578]]\n"
     ]
    }
   ],
   "source": [
    "# you can specify the shape\n",
    "x = np.random.random((5, 3))\n",
    "print(x)"
   ]
  },
  {
   "cell_type": "markdown",
   "metadata": {},
   "source": [
    "#### Random Int"
   ]
  },
  {
   "cell_type": "code",
   "execution_count": 20,
   "metadata": {},
   "outputs": [
    {
     "name": "stdout",
     "output_type": "stream",
     "text": [
      "23\n",
      "[35 23 96 40 40 99 22 75 41 67]\n",
      "[[46 37 28]\n",
      " [87 32 33]\n",
      " [21 38 84]]\n"
     ]
    }
   ],
   "source": [
    "print(np.random.randint(low=10,high=100))\n",
    "print(np.random.randint(low=10,high=100,size=10))\n",
    "print(np.random.randint(low=10,high=100,size=(3,3)))"
   ]
  },
  {
   "cell_type": "markdown",
   "metadata": {},
   "source": [
    "**Round function**"
   ]
  },
  {
   "cell_type": "code",
   "execution_count": 21,
   "metadata": {},
   "outputs": [
    {
     "name": "stdout",
     "output_type": "stream",
     "text": [
      "Before Round Function \n",
      " [[0.31923609 0.09045935]\n",
      " [0.30070006 0.11398436]]\n",
      "\n",
      "Using Round rounding the decimal value upto 2 digits \n",
      "[[3.2 0.9]\n",
      " [3.  1.1]]\n"
     ]
    }
   ],
   "source": [
    "x=np.random.random((2,2))\n",
    "print(\"Before Round Function \\n {}\".format(x))   \n",
    "x=np.round(x,2)\n",
    "x=x*10\n",
    "print (\"\\nUsing Round rounding the decimal value upto 2 digits \\n{}\".format(x))"
   ]
  },
  {
   "cell_type": "markdown",
   "metadata": {},
   "source": [
    "**Changing the datatype**"
   ]
  },
  {
   "cell_type": "code",
   "execution_count": 22,
   "metadata": {},
   "outputs": [
    {
     "name": "stdout",
     "output_type": "stream",
     "text": [
      "[[3.2 0.9]\n",
      " [3.  1.1]]\n"
     ]
    }
   ],
   "source": [
    "x.astype(int)\n",
    "print(x)\n",
    "## Check Why its not working properly"
   ]
  },
  {
   "cell_type": "markdown",
   "metadata": {},
   "source": [
    "**Reshape**\n",
    "\n",
    "* This can be used to change the dimension of array"
   ]
  },
  {
   "cell_type": "code",
   "execution_count": 23,
   "metadata": {},
   "outputs": [
    {
     "name": "stdout",
     "output_type": "stream",
     "text": [
      "[ 0  1  2  3  4  5  6  7  8  9 10 11 12 13 14 15 16 17 18 19 20 21 22 23\n",
      " 24 25 26 27 28 29 30 31 32 33 34 35 36 37 38 39 40 41 42 43 44 45 46 47\n",
      " 48 49 50 51 52 53 54 55 56 57 58 59 60 61 62 63 64 65 66 67 68 69 70 71\n",
      " 72 73 74 75 76 77 78 79 80 81 82 83 84 85 86 87 88 89 90 91 92 93 94 95\n",
      " 96 97 98 99]\n"
     ]
    }
   ],
   "source": [
    "sample=np.arange(100)\n",
    "print (sample);"
   ]
  },
  {
   "cell_type": "code",
   "execution_count": 24,
   "metadata": {},
   "outputs": [],
   "source": [
    "sample=sample.reshape(5,20)"
   ]
  },
  {
   "cell_type": "code",
   "execution_count": 25,
   "metadata": {},
   "outputs": [
    {
     "name": "stdout",
     "output_type": "stream",
     "text": [
      "[[ 0  1  2  3  4  5  6  7  8  9 10 11 12 13 14 15 16 17 18 19]\n",
      " [20 21 22 23 24 25 26 27 28 29 30 31 32 33 34 35 36 37 38 39]\n",
      " [40 41 42 43 44 45 46 47 48 49 50 51 52 53 54 55 56 57 58 59]\n",
      " [60 61 62 63 64 65 66 67 68 69 70 71 72 73 74 75 76 77 78 79]\n",
      " [80 81 82 83 84 85 86 87 88 89 90 91 92 93 94 95 96 97 98 99]]\n"
     ]
    }
   ],
   "source": [
    "print(sample)"
   ]
  },
  {
   "cell_type": "code",
   "execution_count": 26,
   "metadata": {},
   "outputs": [
    {
     "data": {
      "text/plain": [
       "(5, 20)"
      ]
     },
     "execution_count": 26,
     "metadata": {},
     "output_type": "execute_result"
    }
   ],
   "source": [
    "sample.shape"
   ]
  },
  {
   "cell_type": "code",
   "execution_count": 27,
   "metadata": {},
   "outputs": [
    {
     "data": {
      "text/plain": [
       "array([[ 0,  1,  2,  3,  4,  5,  6,  7,  8,  9],\n",
       "       [10, 11, 12, 13, 14, 15, 16, 17, 18, 19],\n",
       "       [20, 21, 22, 23, 24, 25, 26, 27, 28, 29],\n",
       "       [30, 31, 32, 33, 34, 35, 36, 37, 38, 39],\n",
       "       [40, 41, 42, 43, 44, 45, 46, 47, 48, 49],\n",
       "       [50, 51, 52, 53, 54, 55, 56, 57, 58, 59],\n",
       "       [60, 61, 62, 63, 64, 65, 66, 67, 68, 69],\n",
       "       [70, 71, 72, 73, 74, 75, 76, 77, 78, 79],\n",
       "       [80, 81, 82, 83, 84, 85, 86, 87, 88, 89],\n",
       "       [90, 91, 92, 93, 94, 95, 96, 97, 98, 99]])"
      ]
     },
     "execution_count": 27,
     "metadata": {},
     "output_type": "execute_result"
    }
   ],
   "source": [
    "# 10 rows and not sure about how many columns will be there\n",
    "sample.reshape(10,-1)"
   ]
  },
  {
   "cell_type": "markdown",
   "metadata": {},
   "source": [
    "## Mathematical function in numpy"
   ]
  },
  {
   "cell_type": "markdown",
   "metadata": {},
   "source": [
    "## Simple Airthmetic"
   ]
  },
  {
   "cell_type": "code",
   "execution_count": 28,
   "metadata": {},
   "outputs": [
    {
     "name": "stdout",
     "output_type": "stream",
     "text": [
      "Array 1 is [10 20 30 40 50 60 70 80 90]\n",
      "\n",
      "Array 2 is [1 2 3 4 5 6 7 8 9]\n",
      "\n",
      "Addition is [11 22 33 44 55 66 77 88 99]\n",
      "\n",
      "Subtraction is [ 9 18 27 36 45 54 63 72 81]\n",
      "\n",
      "Multiplication is [ 10  40  90 160 250 360 490 640 810]\n",
      "\n",
      "Division is [10. 10. 10. 10. 10. 10. 10. 10. 10.]\n",
      "\n",
      "Power is [                10                400              27000\n",
      "            2560000          312500000        46656000000\n",
      "      8235430000000   1677721600000000 387420489000000000]\n",
      "\n",
      "Modulus is [0 0 0 0 0 0 0 0 0]\n",
      "\n",
      "Remainder is [0 0 0 0 0 0 0 0 0]\n",
      "\n",
      "Quotient and mod is (array([10, 10, 10, 10, 10, 10, 10, 10, 10]), array([0, 0, 0, 0, 0, 0, 0, 0, 0]))\n"
     ]
    }
   ],
   "source": [
    "a1=np.arange(10,100,10)\n",
    "a2=np.arange(1,10,1)\n",
    "print (\"Array 1 is {}\".format(a1))\n",
    "print (\"\\nArray 2 is {}\".format(a2))\n",
    "# Add\n",
    "print(\"\\nAddition is {}\".format(np.add(a1,a2)))\n",
    "\n",
    "#Subtract\n",
    "print(\"\\nSubtraction is {}\".format(np.subtract(a1,a2)))\n",
    "\n",
    "#Multiplication\n",
    "print(\"\\nMultiplication is {}\".format(np.multiply(a1,a2)))\n",
    "\n",
    "#Division\n",
    "print(\"\\nDivision is {}\".format(np.divide(a1,a2)))\n",
    "\n",
    "#power\n",
    "print(\"\\nPower is {}\".format(np.power(a1,a2)))\n",
    "\n",
    "#mod\n",
    "print(\"\\nModulus is {}\".format(np.mod(a1,a2)))\n",
    "\n",
    "#remainder Same as mod\n",
    "print(\"\\nRemainder is {}\".format(np.remainder(a1,a2)))\n",
    "\n",
    "#Quotient and mod\n",
    "print(\"\\nQuotient and mod is {}\".format(np.divmod(a1,a2)))"
   ]
  },
  {
   "cell_type": "markdown",
   "metadata": {},
   "source": [
    "### Trignometric ,Log,Summation"
   ]
  },
  {
   "cell_type": "code",
   "execution_count": 29,
   "metadata": {},
   "outputs": [
    {
     "name": "stdout",
     "output_type": "stream",
     "text": [
      "Array is [1 2 3 4 5 6 7 8 9]\n",
      "\n",
      "Sin value are [ 0.84147098  0.90929743  0.14112001 -0.7568025  -0.95892427 -0.2794155\n",
      "  0.6569866   0.98935825  0.41211849]\n",
      "\n",
      "Cos value are [ 0.54030231 -0.41614684 -0.9899925  -0.65364362  0.28366219  0.96017029\n",
      "  0.75390225 -0.14550003 -0.91113026]\n",
      "\n",
      "Tan value are [ 1.55740772 -2.18503986 -0.14254654  1.15782128 -3.38051501 -0.29100619\n",
      "  0.87144798 -6.79971146 -0.45231566]\n",
      "\n",
      "Exp value are [2.71828183e+00 7.38905610e+00 2.00855369e+01 5.45981500e+01\n",
      " 1.48413159e+02 4.03428793e+02 1.09663316e+03 2.98095799e+03\n",
      " 8.10308393e+03]\n",
      "\n",
      "Log Base 2 value are [0.         1.         1.5849625  2.         2.32192809 2.5849625\n",
      " 2.80735492 3.         3.169925  ]\n",
      "\n",
      "Natural Log value are [0.         0.69314718 1.09861229 1.38629436 1.60943791 1.79175947\n",
      " 1.94591015 2.07944154 2.19722458]\n",
      "\n",
      "Summation value is 45\n",
      "\n",
      "Maximum value is 9\n"
     ]
    }
   ],
   "source": [
    "x=np.arange(1,10)\n",
    "\n",
    "print(\"Array is {}\".format(x))\n",
    "\n",
    "# Sin value of each element in array\n",
    "print(\"\\nSin value are {}\".format(np.sin(x)))\n",
    "\n",
    "# Cos value\n",
    "print(\"\\nCos value are {}\".format(np.cos(x)))\n",
    "\n",
    "# Tan Value of each element\n",
    "print(\"\\nTan value are {}\".format(np.tan(x)))\n",
    "\n",
    "#to get the exponential values i,e., e^num\n",
    "print(\"\\nExp value are {}\".format(np.exp(x)))\n",
    "\n",
    "#log base 2\n",
    "print(\"\\nLog Base 2 value are {}\".format(np.log2(x)))\n",
    "\n",
    "#Natural Log\n",
    "print(\"\\nNatural Log value are {}\".format(np.log(x)))\n",
    "\n",
    "#Summation\n",
    "print (\"\\nSummation value is {}\".format(np.sum(x)))\n",
    "\n",
    "#Max Value\n",
    "print(\"\\nMaximum value is {}\".format(np.max(x)))"
   ]
  },
  {
   "cell_type": "code",
   "execution_count": null,
   "metadata": {},
   "outputs": [],
   "source": []
  }
 ],
 "metadata": {
  "kernelspec": {
   "display_name": "Python 3",
   "language": "python",
   "name": "python3"
  },
  "language_info": {
   "codemirror_mode": {
    "name": "ipython",
    "version": 3
   },
   "file_extension": ".py",
   "mimetype": "text/x-python",
   "name": "python",
   "nbconvert_exporter": "python",
   "pygments_lexer": "ipython3",
   "version": "3.8.5"
  }
 },
 "nbformat": 4,
 "nbformat_minor": 4
}
