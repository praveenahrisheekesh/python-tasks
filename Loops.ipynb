{
 "cells": [
  {
   "cell_type": "markdown",
   "metadata": {},
   "source": [
    "# Task10\n",
    "### Using while loop print numbers from 10 to 1"
   ]
  },
  {
   "cell_type": "code",
   "execution_count": 1,
   "metadata": {},
   "outputs": [
    {
     "name": "stdout",
     "output_type": "stream",
     "text": [
      "10\n",
      "9\n",
      "8\n",
      "7\n",
      "6\n",
      "5\n",
      "4\n",
      "3\n",
      "2\n",
      "1\n",
      "End of While loop since num is 0\n"
     ]
    }
   ],
   "source": [
    "num=10\n",
    "while(num>0) :\n",
    "    print (num)\n",
    "    num=num-1\n",
    "else :\n",
    "    print(\"End of While loop since num is {}\".format(num))"
   ]
  },
  {
   "cell_type": "markdown",
   "metadata": {},
   "source": [
    "### Using for loop to loop over tuples,sets and dictionaries\n",
    "\n",
    "#### List"
   ]
  },
  {
   "cell_type": "code",
   "execution_count": 2,
   "metadata": {},
   "outputs": [
    {
     "name": "stdout",
     "output_type": "stream",
     "text": [
      "Iphone 11\n",
      "Samasung galaxy\n",
      "MI\n",
      "Nokia\n",
      "BlackBerry\n",
      "Iphone 6s\n",
      "Iphone 11\n"
     ]
    }
   ],
   "source": [
    "itemList=[\"Iphone 11\",\"Samasung galaxy\",\"MI\",\"Nokia\",\"BlackBerry\",\"Iphone 6s\",\"Iphone 11\"]\n",
    "\n",
    "for item in itemList :\n",
    "    print(item)"
   ]
  },
  {
   "cell_type": "markdown",
   "metadata": {},
   "source": [
    "#### Dictionary"
   ]
  },
  {
   "cell_type": "code",
   "execution_count": 3,
   "metadata": {},
   "outputs": [
    {
     "name": "stdout",
     "output_type": "stream",
     "text": [
      "april_batch\n",
      "May_batch\n",
      "\n",
      " Dictionary Values {'student': {'name': 'Mike', 'marks': {'python': 80, 'maths': 70}}}\n",
      "\n",
      " Dictionary Values {'student': {'name': 'Michel', 'marks': {'python': 80, 'maths': 70}}}\n",
      "\n",
      " april_batch {'student': {'name': 'Mike', 'marks': {'python': 80, 'maths': 70}}}\n",
      "\n",
      " May_batch {'student': {'name': 'Michel', 'marks': {'python': 80, 'maths': 70}}}\n"
     ]
    }
   ],
   "source": [
    "dict1 = { \n",
    "   \"april_batch\":{ \n",
    "      \"student\":{ \n",
    "         \"name\":\"Mike\",\n",
    "         \"marks\":{ \n",
    "            \"python\":80,\n",
    "            \"maths\":70\n",
    "         }\n",
    "      }\n",
    "   },\n",
    "    \n",
    "   \"May_batch\":{ \n",
    "      \"student\":{ \n",
    "         \"name\":\"Michel\",\n",
    "         \"marks\":{ \n",
    "            \"python\":80,\n",
    "            \"maths\":70\n",
    "         }\n",
    "      }\n",
    "   } \n",
    "}\n",
    "\n",
    "\n",
    "for x in dict1:\n",
    "  print(x)\n",
    "\n",
    "\n",
    "for x in dict1.values():\n",
    "  print(\"\\n Dictionary Values\",x)\n",
    "\n",
    "\n",
    "for x, y in dict1.items():\n",
    "  print(\"\\n\",x, y)"
   ]
  },
  {
   "cell_type": "markdown",
   "metadata": {},
   "source": [
    "#### Set"
   ]
  },
  {
   "cell_type": "code",
   "execution_count": 4,
   "metadata": {},
   "outputs": [
    {
     "name": "stdout",
     "output_type": "stream",
     "text": [
      "Toyata\n",
      "Maurti\n",
      "Tata\n",
      "Ford\n"
     ]
    }
   ],
   "source": [
    "itemSet={\"Ford\",\"Toyata\",\"Maurti\",\"Tata\"}\n",
    "\n",
    "for item in itemSet:\n",
    "    print (item)"
   ]
  },
  {
   "cell_type": "markdown",
   "metadata": {},
   "source": [
    "#### Tuple"
   ]
  },
  {
   "cell_type": "code",
   "execution_count": 5,
   "metadata": {},
   "outputs": [
    {
     "name": "stdout",
     "output_type": "stream",
     "text": [
      "1\n",
      "Praveena\n",
      "Female\n",
      "MCA\n"
     ]
    }
   ],
   "source": [
    "tup=(1,\"Praveena\",\"Female\",\"MCA\")\n",
    "\n",
    "for x in tup :\n",
    "    print(x)"
   ]
  },
  {
   "cell_type": "markdown",
   "metadata": {},
   "source": [
    "## Task 10.1\n",
    "\n",
    "* With the continue statement we can stop the current iteration, and continue with the next\n",
    "\n",
    "<b>For Example</b>"
   ]
  },
  {
   "cell_type": "code",
   "execution_count": 6,
   "metadata": {},
   "outputs": [
    {
     "name": "stdout",
     "output_type": "stream",
     "text": [
      "1\n",
      "2\n",
      "4\n",
      "5\n",
      "6\n"
     ]
    }
   ],
   "source": [
    "i = 0\n",
    "while i < 6:\n",
    "  i += 1\n",
    "  if i == 3:\n",
    "    continue\n",
    "  print(i)\n",
    "\n",
    "# Note that number 3 is missing in the result"
   ]
  },
  {
   "cell_type": "markdown",
   "metadata": {},
   "source": [
    "## Task 10.2\n",
    "* Using Pass Variable\n",
    "* The pass statement is used as a placeholder for future code.\n",
    "* When the pass statement is executed, nothing happens, but you avoid getting an error when empty code is not allowed.\n",
    "* Empty code is not allowed in loops, function definitions, class definitions, or in if statements."
   ]
  },
  {
   "cell_type": "code",
   "execution_count": null,
   "metadata": {},
   "outputs": [],
   "source": [
    "i=1\n",
    "while(i<5):\n",
    "    pass"
   ]
  }
 ],
 "metadata": {
  "kernelspec": {
   "display_name": "Python 3",
   "language": "python",
   "name": "python3"
  },
  "language_info": {
   "codemirror_mode": {
    "name": "ipython",
    "version": 3
   },
   "file_extension": ".py",
   "mimetype": "text/x-python",
   "name": "python",
   "nbconvert_exporter": "python",
   "pygments_lexer": "ipython3",
   "version": "3.8.5"
  }
 },
 "nbformat": 4,
 "nbformat_minor": 4
}
